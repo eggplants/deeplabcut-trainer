{
 "cells": [
  {
   "cell_type": "code",
   "execution_count": 3,
   "id": "a56655fc",
   "metadata": {},
   "outputs": [],
   "source": [
    "!pip install \"deeplabcut[gui]\" -q\n",
    "import deeplabcut\n",
    "import os\n",
    "import yaml"
   ]
  },
  {
   "cell_type": "code",
   "execution_count": 1,
   "id": "47a19aa4",
   "metadata": {},
   "outputs": [],
   "source": [
    "# config.yaml path\n",
    "path_config = \"C:\\\\Users\\\\SSG_Share_1\\\\Haruna\\\\Deeplabcut-trainer\\\\\"\\\n",
    "              \"2021-08-15-eggplants-2021-08-17\\\\\"\\\n",
    "              \"config.yaml\""
   ]
  },
  {
   "cell_type": "code",
   "execution_count": 3,
   "id": "0709bb4c",
   "metadata": {},
   "outputs": [],
   "source": [
    "# create project directory\n",
    "if not os.path.isfile(path_config):\n",
    "    deeplabcut.create_new_project('2021-08-15',\n",
    "                                  'eggplants',\n",
    "                                  [\n",
    "                                      \"C:\\\\Users\\\\SSG_Share_1\\\\Haruna\\\\\"\\\n",
    "                                      \"data_with_cable\\\\test_body_with_cable.avi\"\n",
    "                                  ], copy_videos=True)\n",
    "    \"\"\"\n",
    "    modify config file:\n",
    "    \n",
    "    bodyparts:\n",
    "    - ear_left\n",
    "    - ear_right\n",
    "    - tail_set\n",
    "    - nose\n",
    "    \"\"\"\n",
    "    config_data = yaml.safe_load(open(path_config, 'r'))\n",
    "    data['bodyparts'] = ['ear_left', 'ear_right', \n",
    "                         'tail_set', 'nose']\n",
    "    # Maximum number of images to be labeled\n",
    "    data['numframes2pick'] = 100\n",
    "    yaml.dump(data, open(path_config, 'w'))\n",
    "    # extract frames from video(s) and cluster them with kmeans\n",
    "    deeplabcut.extract_frames(path_config, userfeedback=True)"
   ]
  },
  {
   "cell_type": "code",
   "execution_count": null,
   "id": "0be0e7ff",
   "metadata": {},
   "outputs": [],
   "source": [
    "# label with gui\n",
    "deeplabcut.label_frames(path_config) # move launched window\n",
    "                                     # click 'select folder'\n",
    "                                     # select 'test_body_with_cable' folder\n",
    "                                     # then label pics with right-click"
   ]
  },
  {
   "cell_type": "code",
   "execution_count": 4,
   "id": "9c8eba30",
   "metadata": {},
   "outputs": [
    {
     "name": "stdout",
     "output_type": "stream",
     "text": [
      "C:\\Users\\SSG_Share_1\\Haruna\\Deeplabcut-trainer\\2021-08-15-eggplants-2021-08-17\\training-datasets\\iteration-0\\UnaugmentedDataSet_2021-08-15Aug17  already exists!\n",
      "Downloading a ImageNet-pretrained model from http://download.tensorflow.org/models/resnet_v1_50_2016_08_28.tar.gz....\n",
      "The training dataset is successfully created. Use the function 'train_network' to start training. Happy training!\n"
     ]
    },
    {
     "data": {
      "text/plain": [
       "[(0.95,\n",
       "  1,\n",
       "  (array([22, 29, 10, 27, 17,  1, 15,  9, 14, 19,  5, 30, 20, 12, 21,  4,  6,\n",
       "           2, 24,  3, 25,  0,  8, 28,  7, 16, 31, 13, 26, 23]),\n",
       "   array([11, 18])))]"
      ]
     },
     "execution_count": 4,
     "metadata": {},
     "output_type": "execute_result"
    }
   ],
   "source": [
    "# create training dataset\n",
    "deeplabcut.create_training_dataset(path_config)"
   ]
  },
  {
   "cell_type": "code",
   "execution_count": null,
   "id": "65971085",
   "metadata": {},
   "outputs": [
    {
     "name": "stderr",
     "output_type": "stream",
     "text": [
      "Config:\n",
      "{'all_joints': [[0], [1], [2], [3]],\n",
      " 'all_joints_names': ['ear_left', 'ear_right', 'tail_set', 'nose'],\n",
      " 'alpha_r': 0.02,\n",
      " 'apply_prob': 0.5,\n",
      " 'batch_size': 1,\n",
      " 'clahe': True,\n",
      " 'claheratio': 0.1,\n",
      " 'crop_pad': 0,\n",
      " 'crop_sampling': 'hybrid',\n",
      " 'crop_size': [400, 400],\n",
      " 'cropratio': 0.4,\n",
      " 'dataset': 'training-datasets\\\\iteration-0\\\\UnaugmentedDataSet_2021-08-15Aug17\\\\2021-08-15_eggplants95shuffle1.mat',\n",
      " 'dataset_type': 'default',\n",
      " 'decay_steps': 30000,\n",
      " 'deterministic': False,\n",
      " 'display_iters': 1000,\n",
      " 'edge': False,\n",
      " 'emboss': {'alpha': [0.0, 1.0], 'embossratio': 0.1, 'strength': [0.5, 1.5]},\n",
      " 'fg_fraction': 0.25,\n",
      " 'global_scale': 0.8,\n",
      " 'histeq': True,\n",
      " 'histeqratio': 0.1,\n",
      " 'init_weights': 'c:\\\\users\\\\ssg_share_1\\\\.pyenv\\\\pyenv-win\\\\versions\\\\3.7.7\\\\lib\\\\site-packages\\\\deeplabcut\\\\pose_estimation_tensorflow\\\\models\\\\pretrained\\\\resnet_v1_50.ckpt',\n",
      " 'intermediate_supervision': False,\n",
      " 'intermediate_supervision_layer': 12,\n",
      " 'location_refinement': True,\n",
      " 'locref_huber_loss': True,\n",
      " 'locref_loss_weight': 0.05,\n",
      " 'locref_stdev': 7.2801,\n",
      " 'log_dir': 'log',\n",
      " 'lr_init': 0.0005,\n",
      " 'max_input_size': 1500,\n",
      " 'max_shift': 0.4,\n",
      " 'mean_pixel': [123.68, 116.779, 103.939],\n",
      " 'metadataset': 'training-datasets\\\\iteration-0\\\\UnaugmentedDataSet_2021-08-15Aug17\\\\Documentation_data-2021-08-15_95shuffle1.pickle',\n",
      " 'min_input_size': 64,\n",
      " 'mirror': False,\n",
      " 'multi_stage': False,\n",
      " 'multi_step': [[0.005, 10000],\n",
      "                [0.02, 430000],\n",
      "                [0.002, 730000],\n",
      "                [0.001, 1030000]],\n",
      " 'net_type': 'resnet_50',\n",
      " 'num_joints': 4,\n",
      " 'optimizer': 'sgd',\n",
      " 'pairwise_huber_loss': False,\n",
      " 'pairwise_predict': False,\n",
      " 'partaffinityfield_predict': False,\n",
      " 'pos_dist_thresh': 17,\n",
      " 'pre_resize': [],\n",
      " 'project_path': 'C:\\\\Users\\\\SSG_Share_1\\\\Haruna\\\\Deeplabcut-trainer\\\\2021-08-15-eggplants-2021-08-17',\n",
      " 'regularize': False,\n",
      " 'rotation': 25,\n",
      " 'rotratio': 0.4,\n",
      " 'save_iters': 50000,\n",
      " 'scale_jitter_lo': 0.5,\n",
      " 'scale_jitter_up': 1.25,\n",
      " 'scoremap_dir': 'test',\n",
      " 'sharpen': False,\n",
      " 'sharpenratio': 0.3,\n",
      " 'shuffle': True,\n",
      " 'snapshot_prefix': 'C:\\\\Users\\\\SSG_Share_1\\\\Haruna\\\\Deeplabcut-trainer\\\\2021-08-15-eggplants-2021-08-17\\\\dlc-models\\\\iteration-0\\\\2021-08-15Aug17-trainset95shuffle1\\\\train\\\\snapshot',\n",
      " 'stride': 8.0,\n",
      " 'weigh_negatives': False,\n",
      " 'weigh_only_present_joints': False,\n",
      " 'weigh_part_predictions': False,\n",
      " 'weight_decay': 0.0001}\n"
     ]
    },
    {
     "name": "stdout",
     "output_type": "stream",
     "text": [
      "Selecting single-animal trainer\n",
      "Batch Size is 1\n",
      "Loading ImageNet-pretrained resnet_50\n",
      "Display_iters overwritten as 10\n",
      "Save_iters overwritten as 500\n",
      "Training parameter:\n",
      "{'stride': 8.0, 'weigh_part_predictions': False, 'weigh_negatives': False, 'fg_fraction': 0.25, 'mean_pixel': [123.68, 116.779, 103.939], 'shuffle': True, 'snapshot_prefix': 'C:\\\\Users\\\\SSG_Share_1\\\\Haruna\\\\Deeplabcut-trainer\\\\2021-08-15-eggplants-2021-08-17\\\\dlc-models\\\\iteration-0\\\\2021-08-15Aug17-trainset95shuffle1\\\\train\\\\snapshot', 'log_dir': 'log', 'global_scale': 0.8, 'location_refinement': True, 'locref_stdev': 7.2801, 'locref_loss_weight': 0.05, 'locref_huber_loss': True, 'optimizer': 'sgd', 'intermediate_supervision': False, 'intermediate_supervision_layer': 12, 'regularize': False, 'weight_decay': 0.0001, 'crop_pad': 0, 'scoremap_dir': 'test', 'batch_size': 1, 'dataset_type': 'default', 'deterministic': False, 'mirror': False, 'pairwise_huber_loss': False, 'weigh_only_present_joints': False, 'partaffinityfield_predict': False, 'pairwise_predict': False, 'all_joints': [[0], [1], [2], [3]], 'all_joints_names': ['ear_left', 'ear_right', 'tail_set', 'nose'], 'alpha_r': 0.02, 'apply_prob': 0.5, 'clahe': True, 'claheratio': 0.1, 'crop_sampling': 'hybrid', 'crop_size': [400, 400], 'cropratio': 0.4, 'dataset': 'training-datasets\\\\iteration-0\\\\UnaugmentedDataSet_2021-08-15Aug17\\\\2021-08-15_eggplants95shuffle1.mat', 'decay_steps': 30000, 'display_iters': 1000, 'edge': False, 'emboss': {'alpha': [0.0, 1.0], 'embossratio': 0.1, 'strength': [0.5, 1.5]}, 'histeq': True, 'histeqratio': 0.1, 'init_weights': 'c:\\\\users\\\\ssg_share_1\\\\.pyenv\\\\pyenv-win\\\\versions\\\\3.7.7\\\\lib\\\\site-packages\\\\deeplabcut\\\\pose_estimation_tensorflow\\\\models\\\\pretrained\\\\resnet_v1_50.ckpt', 'lr_init': 0.0005, 'max_input_size': 1500, 'max_shift': 0.4, 'metadataset': 'training-datasets\\\\iteration-0\\\\UnaugmentedDataSet_2021-08-15Aug17\\\\Documentation_data-2021-08-15_95shuffle1.pickle', 'min_input_size': 64, 'multi_stage': False, 'multi_step': [[0.005, 10000], [0.02, 430000], [0.002, 730000], [0.001, 1030000]], 'net_type': 'resnet_50', 'num_joints': 4, 'pos_dist_thresh': 17, 'pre_resize': [], 'project_path': 'C:\\\\Users\\\\SSG_Share_1\\\\Haruna\\\\Deeplabcut-trainer\\\\2021-08-15-eggplants-2021-08-17', 'rotation': 25, 'rotratio': 0.4, 'save_iters': 50000, 'scale_jitter_lo': 0.5, 'scale_jitter_up': 1.25, 'sharpen': False, 'sharpenratio': 0.3, 'covering': True, 'elastic_transform': True, 'motion_blur': True, 'motion_blur_params': {'k': 7, 'angle': (-90, 90)}}\n",
      "Starting training....\n"
     ]
    },
    {
     "name": "stderr",
     "output_type": "stream",
     "text": [
      "iteration: 10 loss: 0.2784 lr: 0.005\n",
      "iteration: 20 loss: 0.0422 lr: 0.005\n",
      "iteration: 30 loss: 0.0299 lr: 0.005\n",
      "iteration: 40 loss: 0.0248 lr: 0.005\n",
      "iteration: 50 loss: 0.0222 lr: 0.005\n",
      "iteration: 60 loss: 0.0201 lr: 0.005\n",
      "iteration: 70 loss: 0.0183 lr: 0.005\n",
      "iteration: 80 loss: 0.0192 lr: 0.005\n",
      "iteration: 90 loss: 0.0175 lr: 0.005\n",
      "iteration: 100 loss: 0.0159 lr: 0.005\n",
      "iteration: 110 loss: 0.0145 lr: 0.005\n",
      "iteration: 120 loss: 0.0153 lr: 0.005\n",
      "iteration: 130 loss: 0.0118 lr: 0.005\n",
      "iteration: 140 loss: 0.0142 lr: 0.005\n",
      "iteration: 150 loss: 0.0112 lr: 0.005\n",
      "iteration: 160 loss: 0.0113 lr: 0.005\n"
     ]
    }
   ],
   "source": [
    "# train\n",
    "deeplabcut.train_network(path_config, shuffle=1, displayiters=10,saveiters=500)"
   ]
  }
 ],
 "metadata": {
  "kernelspec": {
   "display_name": "Python 3 (ipykernel)",
   "language": "python",
   "name": "python3"
  },
  "language_info": {
   "codemirror_mode": {
    "name": "ipython",
    "version": 3
   },
   "file_extension": ".py",
   "mimetype": "text/x-python",
   "name": "python",
   "nbconvert_exporter": "python",
   "pygments_lexer": "ipython3",
   "version": "3.7.7"
  }
 },
 "nbformat": 4,
 "nbformat_minor": 5
}
