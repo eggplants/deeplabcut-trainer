{
 "cells": [
  {
   "cell_type": "code",
   "execution_count": 2,
   "id": "a901043f",
   "metadata": {},
   "outputs": [],
   "source": [
    "# REF:\n",
    "# https://colab.research.google.com/\n",
    "# github/AlexEMG/DeepLabCut/blob/master/examples/\n",
    "# COLAB_YOURDATA_TrainNetwork_VideoAnalysis.ipynb"
   ]
  },
  {
   "cell_type": "code",
   "execution_count": 14,
   "id": "2ab41173",
   "metadata": {},
   "outputs": [
    {
     "name": "stdout",
     "output_type": "stream",
     "text": [
      "\n",
      " _             _       \n",
      "| |           (_)      \n",
      "| |_ _ __ __ _ _ _ __  \n",
      "| __| '__/ _` | | '_ \\\n",
      "| |_| | | (_| | | | | |\n",
      " \\__|_|  \\__,_|_|_| |_|\n",
      "                       \n",
      "\n"
     ]
    }
   ],
   "source": [
    "print('''\n",
    " _             _       \n",
    "| |           (_)      \n",
    "| |_ _ __ __ _ _ _ __  \n",
    "| __| '__/ _` | | '_ \\\\\n",
    "| |_| | | (_| | | | | |\n",
    " \\__|_|  \\__,_|_|_| |_|\n",
    "                       \n",
    "''')"
   ]
  },
  {
   "cell_type": "code",
   "execution_count": 3,
   "id": "a56655fc",
   "metadata": {},
   "outputs": [],
   "source": [
    "# !pip install \"deeplabcut[gui]\" -q\n",
    "import deeplabcut\n",
    "import os\n",
    "import yaml"
   ]
  },
  {
   "cell_type": "code",
   "execution_count": 4,
   "id": "47a19aa4",
   "metadata": {},
   "outputs": [
    {
     "data": {
      "text/plain": [
       "'C:\\\\Users\\\\SSG_Share_1\\\\Haruna\\\\Deeplabcut-trainer\\\\2021-08-30-eggplants-2021-08-30\\\\config.yaml'"
      ]
     },
     "execution_count": 4,
     "metadata": {},
     "output_type": "execute_result"
    }
   ],
   "source": [
    "# config.yaml path\n",
    "day = \"2021-08-30\"\n",
    "path_config = (\"C:\\\\Users\\\\SSG_Share_1\\\\Haruna\\\\Deeplabcut-trainer\\\\\"\n",
    "              f\"{day}-eggplants-{day}\\\\\"\n",
    "              \"config.yaml\")\n",
    "path_config"
   ]
  },
  {
   "cell_type": "code",
   "execution_count": 5,
   "id": "0709bb4c",
   "metadata": {},
   "outputs": [],
   "source": [
    "# create project directory\n",
    "if not os.path.isfile(path_config):\n",
    "    deeplabcut.create_new_project(day,\n",
    "                                  'eggplants',\n",
    "                                  [\n",
    "                                      \"C:\\\\Users\\\\SSG_Share_1\\\\Haruna\\\\\"\n",
    "                                      \"data_with_cable\\\\test_body_with_cable.avi\"\n",
    "                                  ], copy_videos=True)"
   ]
  },
  {
   "cell_type": "code",
   "execution_count": 6,
   "id": "dc170324",
   "metadata": {},
   "outputs": [],
   "source": [
    "\"\"\"\n",
    "modify config file:\n",
    " \n",
    "bodyparts:\n",
    "- ear_left\n",
    "- ear_right\n",
    "- tail_set\n",
    "- nose\n",
    "\"\"\"\n",
    "config_data = yaml.safe_load(open(path_config, 'r'))\n",
    "config_data['bodyparts'] = ['ear_left',\n",
    "                            'ear_right', \n",
    "                            'tail_set',\n",
    "                            'nose']\n",
    "# Maximum number of images to be labeled\n",
    "config_data['numframes2pick'] = 100\n",
    "yaml.dump(config_data, open(path_config, 'w'))"
   ]
  },
  {
   "cell_type": "code",
   "execution_count": 5,
   "id": "0be0e7ff",
   "metadata": {},
   "outputs": [
    {
     "name": "stdout",
     "output_type": "stream",
     "text": [
      "Config file read successfully.\n",
      "Do you want to extract (perhaps additional) frames for video: C:\\Users\\SSG_Share_1\\Haruna\\Deeplabcut-trainer\\2021-08-30-eggplants-2021-08-30\\videos\\test_body_with_cable.avi ?\n",
      "yes/noyes\n"
     ]
    },
    {
     "name": "stderr",
     "output_type": "stream",
     "text": [
      "5it [00:00, 46.57it/s]"
     ]
    },
    {
     "name": "stdout",
     "output_type": "stream",
     "text": [
      "Extracting frames based on kmeans ...\n",
      "Kmeans-quantization based extracting of frames from 0.0  seconds to 60.02  seconds.\n",
      "Extracting and downsampling... 3601  frames from the video.\n"
     ]
    },
    {
     "name": "stderr",
     "output_type": "stream",
     "text": [
      "3601it [00:21, 166.52it/s]\n"
     ]
    },
    {
     "name": "stdout",
     "output_type": "stream",
     "text": [
      "Kmeans clustering ... (this might take a while)\n",
      "Frames were successfully extracted, for the videos of interest.\n",
      "\n",
      "You can now label the frames using the function 'label_frames' (if you extracted enough frames for all videos).\n"
     ]
    }
   ],
   "source": [
    "# extract frames from video(s) and cluster them with kmeans\n",
    "deeplabcut.extract_frames(path_config #, userfeedback=True\n",
    "                         )"
   ]
  },
  {
   "cell_type": "code",
   "execution_count": null,
   "id": "7a04154f",
   "metadata": {},
   "outputs": [
    {
     "name": "stdout",
     "output_type": "stream",
     "text": [
      "You can now check the labels, using 'check_labels' before proceeding. Then, you can use the function 'create_training_dataset' to create the training dataset.\n"
     ]
    }
   ],
   "source": [
    "# label with gui\n",
    "# issue: even if I quit from GUI window, this process is still running somehow.\n",
    "deeplabcut.label_frames(path_config) # move launched window\n",
    "                                     # click 'select folder'\n",
    "                                     # select 'test_body_with_cable' folder\n",
    "                                     # then label pics with right-click"
   ]
  },
  {
   "cell_type": "code",
   "execution_count": 7,
   "id": "f95deaf6",
   "metadata": {},
   "outputs": [
    {
     "name": "stdout",
     "output_type": "stream",
     "text": [
      "Creating images with labels by eggplants.\n",
      "C:\\Users\\SSG_Share_1\\Haruna\\Deeplabcut-trainer\\2021-08-30-eggplants-2021-08-30\\labeled-data\\test_body_with_cable_labeled  already exists!\n"
     ]
    },
    {
     "name": "stderr",
     "output_type": "stream",
     "text": [
      "100%|██████████████████████████████████████████████████████████████████████████████████| 73/73 [00:41<00:00,  1.78it/s]"
     ]
    },
    {
     "name": "stdout",
     "output_type": "stream",
     "text": [
      "If all the labels are ok, then use the function 'create_training_dataset' to create the training dataset!\n"
     ]
    },
    {
     "name": "stderr",
     "output_type": "stream",
     "text": [
      "\n"
     ]
    }
   ],
   "source": [
    "# check labels\n",
    "deeplabcut.check_labels(path_config)"
   ]
  },
  {
   "cell_type": "code",
   "execution_count": 8,
   "id": "9c8eba30",
   "metadata": {},
   "outputs": [
    {
     "name": "stdout",
     "output_type": "stream",
     "text": [
      "The training dataset is successfully created. Use the function 'train_network' to start training. Happy training!\n"
     ]
    },
    {
     "data": {
      "text/plain": [
       "[(0.95,\n",
       "  1,\n",
       "  (array([47, 43, 27, 48, 44,  3,  1, 37,  6, 19, 46, 42, 39, 56, 34, 58, 71,\n",
       "          40, 52, 61, 70, 31, 21, 53, 55, 65, 54, 45, 17,  2, 16, 57, 49, 38,\n",
       "          28, 62, 12, 13, 10, 33, 60, 15, 68, 66, 41, 63, 36, 11, 72, 24, 26,\n",
       "           4, 59, 35, 51,  9,  5, 50, 20, 69, 23, 25, 14, 64, 67, 29, 18,  0,\n",
       "           8]),\n",
       "   array([22, 32, 30,  7])))]"
      ]
     },
     "execution_count": 8,
     "metadata": {},
     "output_type": "execute_result"
    }
   ],
   "source": [
    "# create training dataset\n",
    "deeplabcut.create_training_dataset(path_config)"
   ]
  },
  {
   "cell_type": "code",
   "execution_count": 9,
   "id": "65971085",
   "metadata": {},
   "outputs": [
    {
     "name": "stderr",
     "output_type": "stream",
     "text": [
      "Config:\n",
      "{'all_joints': [[0], [1], [2], [3]],\n",
      " 'all_joints_names': ['ear_left', 'ear_right', 'tail_set', 'nose'],\n",
      " 'alpha_r': 0.02,\n",
      " 'apply_prob': 0.5,\n",
      " 'batch_size': 1,\n",
      " 'clahe': True,\n",
      " 'claheratio': 0.1,\n",
      " 'crop_pad': 0,\n",
      " 'crop_sampling': 'hybrid',\n",
      " 'crop_size': [400, 400],\n",
      " 'cropratio': 0.4,\n",
      " 'dataset': 'training-datasets\\\\iteration-0\\\\UnaugmentedDataSet_2021-08-30Aug30\\\\2021-08-30_eggplants95shuffle1.mat',\n",
      " 'dataset_type': 'default',\n",
      " 'decay_steps': 30000,\n",
      " 'deterministic': False,\n",
      " 'display_iters': 1000,\n",
      " 'edge': False,\n",
      " 'emboss': {'alpha': [0.0, 1.0], 'embossratio': 0.1, 'strength': [0.5, 1.5]},\n",
      " 'fg_fraction': 0.25,\n",
      " 'global_scale': 0.8,\n",
      " 'histeq': True,\n",
      " 'histeqratio': 0.1,\n",
      " 'init_weights': 'c:\\\\users\\\\ssg_share_1\\\\.pyenv\\\\pyenv-win\\\\versions\\\\3.7.7\\\\lib\\\\site-packages\\\\deeplabcut\\\\pose_estimation_tensorflow\\\\models\\\\pretrained\\\\resnet_v1_50.ckpt',\n",
      " 'intermediate_supervision': False,\n",
      " 'intermediate_supervision_layer': 12,\n",
      " 'location_refinement': True,\n",
      " 'locref_huber_loss': True,\n",
      " 'locref_loss_weight': 0.05,\n",
      " 'locref_stdev': 7.2801,\n",
      " 'log_dir': 'log',\n",
      " 'lr_init': 0.0005,\n",
      " 'max_input_size': 1500,\n",
      " 'max_shift': 0.4,\n",
      " 'mean_pixel': [123.68, 116.779, 103.939],\n",
      " 'metadataset': 'training-datasets\\\\iteration-0\\\\UnaugmentedDataSet_2021-08-30Aug30\\\\Documentation_data-2021-08-30_95shuffle1.pickle',\n",
      " 'min_input_size': 64,\n",
      " 'mirror': False,\n",
      " 'multi_stage': False,\n",
      " 'multi_step': [[0.005, 10000],\n",
      "                [0.02, 430000],\n",
      "                [0.002, 730000],\n",
      "                [0.001, 1030000]],\n",
      " 'net_type': 'resnet_50',\n",
      " 'num_joints': 4,\n",
      " 'optimizer': 'sgd',\n",
      " 'pairwise_huber_loss': False,\n",
      " 'pairwise_predict': False,\n",
      " 'partaffinityfield_predict': False,\n",
      " 'pos_dist_thresh': 17,\n",
      " 'pre_resize': [],\n",
      " 'project_path': 'C:\\\\Users\\\\SSG_Share_1\\\\Haruna\\\\Deeplabcut-trainer\\\\2021-08-30-eggplants-2021-08-30',\n",
      " 'regularize': False,\n",
      " 'rotation': 25,\n",
      " 'rotratio': 0.4,\n",
      " 'save_iters': 50000,\n",
      " 'scale_jitter_lo': 0.5,\n",
      " 'scale_jitter_up': 1.25,\n",
      " 'scoremap_dir': 'test',\n",
      " 'sharpen': False,\n",
      " 'sharpenratio': 0.3,\n",
      " 'shuffle': True,\n",
      " 'snapshot_prefix': 'C:\\\\Users\\\\SSG_Share_1\\\\Haruna\\\\Deeplabcut-trainer\\\\2021-08-30-eggplants-2021-08-30\\\\dlc-models\\\\iteration-0\\\\2021-08-30Aug30-trainset95shuffle1\\\\train\\\\snapshot',\n",
      " 'stride': 8.0,\n",
      " 'weigh_negatives': False,\n",
      " 'weigh_only_present_joints': False,\n",
      " 'weigh_part_predictions': False,\n",
      " 'weight_decay': 0.0001}\n"
     ]
    },
    {
     "name": "stdout",
     "output_type": "stream",
     "text": [
      "Selecting single-animal trainer\n",
      "Batch Size is 1\n",
      "Loading ImageNet-pretrained resnet_50\n",
      "Display_iters overwritten as 10\n",
      "Save_iters overwritten as 500\n",
      "Training parameter:\n",
      "{'stride': 8.0, 'weigh_part_predictions': False, 'weigh_negatives': False, 'fg_fraction': 0.25, 'mean_pixel': [123.68, 116.779, 103.939], 'shuffle': True, 'snapshot_prefix': 'C:\\\\Users\\\\SSG_Share_1\\\\Haruna\\\\Deeplabcut-trainer\\\\2021-08-30-eggplants-2021-08-30\\\\dlc-models\\\\iteration-0\\\\2021-08-30Aug30-trainset95shuffle1\\\\train\\\\snapshot', 'log_dir': 'log', 'global_scale': 0.8, 'location_refinement': True, 'locref_stdev': 7.2801, 'locref_loss_weight': 0.05, 'locref_huber_loss': True, 'optimizer': 'sgd', 'intermediate_supervision': False, 'intermediate_supervision_layer': 12, 'regularize': False, 'weight_decay': 0.0001, 'crop_pad': 0, 'scoremap_dir': 'test', 'batch_size': 1, 'dataset_type': 'default', 'deterministic': False, 'mirror': False, 'pairwise_huber_loss': False, 'weigh_only_present_joints': False, 'partaffinityfield_predict': False, 'pairwise_predict': False, 'all_joints': [[0], [1], [2], [3]], 'all_joints_names': ['ear_left', 'ear_right', 'tail_set', 'nose'], 'alpha_r': 0.02, 'apply_prob': 0.5, 'clahe': True, 'claheratio': 0.1, 'crop_sampling': 'hybrid', 'crop_size': [400, 400], 'cropratio': 0.4, 'dataset': 'training-datasets\\\\iteration-0\\\\UnaugmentedDataSet_2021-08-30Aug30\\\\2021-08-30_eggplants95shuffle1.mat', 'decay_steps': 30000, 'display_iters': 1000, 'edge': False, 'emboss': {'alpha': [0.0, 1.0], 'embossratio': 0.1, 'strength': [0.5, 1.5]}, 'histeq': True, 'histeqratio': 0.1, 'init_weights': 'c:\\\\users\\\\ssg_share_1\\\\.pyenv\\\\pyenv-win\\\\versions\\\\3.7.7\\\\lib\\\\site-packages\\\\deeplabcut\\\\pose_estimation_tensorflow\\\\models\\\\pretrained\\\\resnet_v1_50.ckpt', 'lr_init': 0.0005, 'max_input_size': 1500, 'max_shift': 0.4, 'metadataset': 'training-datasets\\\\iteration-0\\\\UnaugmentedDataSet_2021-08-30Aug30\\\\Documentation_data-2021-08-30_95shuffle1.pickle', 'min_input_size': 64, 'multi_stage': False, 'multi_step': [[0.005, 10000], [0.02, 430000], [0.002, 730000], [0.001, 1030000]], 'net_type': 'resnet_50', 'num_joints': 4, 'pos_dist_thresh': 17, 'pre_resize': [], 'project_path': 'C:\\\\Users\\\\SSG_Share_1\\\\Haruna\\\\Deeplabcut-trainer\\\\2021-08-30-eggplants-2021-08-30', 'rotation': 25, 'rotratio': 0.4, 'save_iters': 50000, 'scale_jitter_lo': 0.5, 'scale_jitter_up': 1.25, 'sharpen': False, 'sharpenratio': 0.3, 'covering': True, 'elastic_transform': True, 'motion_blur': True, 'motion_blur_params': {'k': 7, 'angle': (-90, 90)}}\n",
      "Starting training....\n"
     ]
    },
    {
     "name": "stderr",
     "output_type": "stream",
     "text": [
      "iteration: 10 loss: 0.3253 lr: 0.005\n",
      "iteration: 20 loss: 0.0372 lr: 0.005\n",
      "iteration: 30 loss: 0.0248 lr: 0.005\n",
      "iteration: 40 loss: 0.0229 lr: 0.005\n",
      "iteration: 50 loss: 0.0211 lr: 0.005\n",
      "iteration: 60 loss: 0.0186 lr: 0.005\n",
      "iteration: 70 loss: 0.0180 lr: 0.005\n",
      "iteration: 80 loss: 0.0176 lr: 0.005\n",
      "iteration: 90 loss: 0.0165 lr: 0.005\n",
      "iteration: 100 loss: 0.0142 lr: 0.005\n",
      "iteration: 110 loss: 0.0129 lr: 0.005\n",
      "iteration: 120 loss: 0.0159 lr: 0.005\n",
      "iteration: 130 loss: 0.0134 lr: 0.005\n",
      "iteration: 140 loss: 0.0136 lr: 0.005\n",
      "iteration: 150 loss: 0.0145 lr: 0.005\n",
      "iteration: 160 loss: 0.0125 lr: 0.005\n",
      "iteration: 170 loss: 0.0131 lr: 0.005\n",
      "iteration: 180 loss: 0.0115 lr: 0.005\n",
      "iteration: 190 loss: 0.0106 lr: 0.005\n",
      "iteration: 200 loss: 0.0124 lr: 0.005\n",
      "iteration: 210 loss: 0.0104 lr: 0.005\n",
      "iteration: 220 loss: 0.0092 lr: 0.005\n",
      "iteration: 230 loss: 0.0105 lr: 0.005\n",
      "iteration: 240 loss: 0.0109 lr: 0.005\n",
      "iteration: 250 loss: 0.0094 lr: 0.005\n",
      "iteration: 260 loss: 0.0134 lr: 0.005\n",
      "iteration: 270 loss: 0.0109 lr: 0.005\n",
      "iteration: 280 loss: 0.0087 lr: 0.005\n",
      "iteration: 290 loss: 0.0089 lr: 0.005\n",
      "iteration: 300 loss: 0.0101 lr: 0.005\n",
      "iteration: 310 loss: 0.0086 lr: 0.005\n",
      "iteration: 320 loss: 0.0084 lr: 0.005\n",
      "iteration: 330 loss: 0.0085 lr: 0.005\n",
      "iteration: 340 loss: 0.0092 lr: 0.005\n",
      "iteration: 350 loss: 0.0098 lr: 0.005\n",
      "iteration: 360 loss: 0.0095 lr: 0.005\n",
      "iteration: 370 loss: 0.0098 lr: 0.005\n",
      "iteration: 380 loss: 0.0076 lr: 0.005\n",
      "iteration: 390 loss: 0.0088 lr: 0.005\n",
      "iteration: 400 loss: 0.0093 lr: 0.005\n",
      "iteration: 410 loss: 0.0088 lr: 0.005\n",
      "iteration: 420 loss: 0.0078 lr: 0.005\n",
      "iteration: 430 loss: 0.0080 lr: 0.005\n",
      "iteration: 440 loss: 0.0065 lr: 0.005\n",
      "iteration: 450 loss: 0.0065 lr: 0.005\n",
      "iteration: 460 loss: 0.0078 lr: 0.005\n",
      "iteration: 470 loss: 0.0083 lr: 0.005\n",
      "iteration: 480 loss: 0.0063 lr: 0.005\n",
      "iteration: 490 loss: 0.0070 lr: 0.005\n",
      "iteration: 500 loss: 0.0065 lr: 0.005\n",
      "iteration: 510 loss: 0.0075 lr: 0.005\n",
      "iteration: 520 loss: 0.0067 lr: 0.005\n",
      "iteration: 530 loss: 0.0071 lr: 0.005\n"
     ]
    },
    {
     "ename": "KeyboardInterrupt",
     "evalue": "",
     "output_type": "error",
     "traceback": [
      "\u001b[1;31m---------------------------------------------------------------------------\u001b[0m",
      "\u001b[1;31mKeyboardInterrupt\u001b[0m                         Traceback (most recent call last)",
      "\u001b[1;32mC:\\Users\\SSG_SH~1\\AppData\\Local\\Temp/ipykernel_58348/3724752170.py\u001b[0m in \u001b[0;36m<module>\u001b[1;34m\u001b[0m\n\u001b[0;32m      1\u001b[0m \u001b[1;31m# train\u001b[0m\u001b[1;33m\u001b[0m\u001b[1;33m\u001b[0m\u001b[1;33m\u001b[0m\u001b[0m\n\u001b[0;32m      2\u001b[0m deeplabcut.train_network(path_config, shuffle=1,\n\u001b[1;32m----> 3\u001b[1;33m                          displayiters=10, saveiters=500)\n\u001b[0m",
      "\u001b[1;32mc:\\users\\ssg_share_1\\.pyenv\\pyenv-win\\versions\\3.7.7\\lib\\site-packages\\deeplabcut\\pose_estimation_tensorflow\\training.py\u001b[0m in \u001b[0;36mtrain_network\u001b[1;34m(config, shuffle, trainingsetindex, max_snapshots_to_keep, displayiters, saveiters, maxiters, allow_growth, gputouse, autotune, keepdeconvweights, modelprefix)\u001b[0m\n\u001b[0;32m    185\u001b[0m \u001b[1;33m\u001b[0m\u001b[0m\n\u001b[0;32m    186\u001b[0m     \u001b[1;32mexcept\u001b[0m \u001b[0mBaseException\u001b[0m \u001b[1;32mas\u001b[0m \u001b[0me\u001b[0m\u001b[1;33m:\u001b[0m\u001b[1;33m\u001b[0m\u001b[1;33m\u001b[0m\u001b[0m\n\u001b[1;32m--> 187\u001b[1;33m         \u001b[1;32mraise\u001b[0m \u001b[0me\u001b[0m\u001b[1;33m\u001b[0m\u001b[1;33m\u001b[0m\u001b[0m\n\u001b[0m\u001b[0;32m    188\u001b[0m     \u001b[1;32mfinally\u001b[0m\u001b[1;33m:\u001b[0m\u001b[1;33m\u001b[0m\u001b[1;33m\u001b[0m\u001b[0m\n\u001b[0;32m    189\u001b[0m         \u001b[0mos\u001b[0m\u001b[1;33m.\u001b[0m\u001b[0mchdir\u001b[0m\u001b[1;33m(\u001b[0m\u001b[0mstr\u001b[0m\u001b[1;33m(\u001b[0m\u001b[0mstart_path\u001b[0m\u001b[1;33m)\u001b[0m\u001b[1;33m)\u001b[0m\u001b[1;33m\u001b[0m\u001b[1;33m\u001b[0m\u001b[0m\n",
      "\u001b[1;32mc:\\users\\ssg_share_1\\.pyenv\\pyenv-win\\versions\\3.7.7\\lib\\site-packages\\deeplabcut\\pose_estimation_tensorflow\\training.py\u001b[0m in \u001b[0;36mtrain_network\u001b[1;34m(config, shuffle, trainingsetindex, max_snapshots_to_keep, displayiters, saveiters, maxiters, allow_growth, gputouse, autotune, keepdeconvweights, modelprefix)\u001b[0m\n\u001b[0;32m    181\u001b[0m                 \u001b[0mmax_to_keep\u001b[0m\u001b[1;33m=\u001b[0m\u001b[0mmax_snapshots_to_keep\u001b[0m\u001b[1;33m,\u001b[0m\u001b[1;33m\u001b[0m\u001b[1;33m\u001b[0m\u001b[0m\n\u001b[0;32m    182\u001b[0m                 \u001b[0mkeepdeconvweights\u001b[0m\u001b[1;33m=\u001b[0m\u001b[0mkeepdeconvweights\u001b[0m\u001b[1;33m,\u001b[0m\u001b[1;33m\u001b[0m\u001b[1;33m\u001b[0m\u001b[0m\n\u001b[1;32m--> 183\u001b[1;33m                 \u001b[0mallow_growth\u001b[0m\u001b[1;33m=\u001b[0m\u001b[0mallow_growth\u001b[0m\u001b[1;33m,\u001b[0m\u001b[1;33m\u001b[0m\u001b[1;33m\u001b[0m\u001b[0m\n\u001b[0m\u001b[0;32m    184\u001b[0m             )  # pass on path and file name for pose_cfg.yaml!\n\u001b[0;32m    185\u001b[0m \u001b[1;33m\u001b[0m\u001b[0m\n",
      "\u001b[1;32mc:\\users\\ssg_share_1\\.pyenv\\pyenv-win\\versions\\3.7.7\\lib\\site-packages\\deeplabcut\\pose_estimation_tensorflow\\core\\train.py\u001b[0m in \u001b[0;36mtrain\u001b[1;34m(config_yaml, displayiters, saveiters, maxiters, max_to_keep, keepdeconvweights, allow_growth)\u001b[0m\n\u001b[0;32m    273\u001b[0m \u001b[1;33m\u001b[0m\u001b[0m\n\u001b[0;32m    274\u001b[0m         [_, loss_val, summary] = sess.run(\n\u001b[1;32m--> 275\u001b[1;33m             \u001b[1;33m[\u001b[0m\u001b[0mtrain_op\u001b[0m\u001b[1;33m,\u001b[0m \u001b[0mtotal_loss\u001b[0m\u001b[1;33m,\u001b[0m \u001b[0mmerged_summaries\u001b[0m\u001b[1;33m]\u001b[0m\u001b[1;33m,\u001b[0m \u001b[0mfeed_dict\u001b[0m\u001b[1;33m=\u001b[0m\u001b[0mdict\u001b[0m\u001b[1;33m\u001b[0m\u001b[1;33m\u001b[0m\u001b[0m\n\u001b[0m\u001b[0;32m    276\u001b[0m         )\n\u001b[0;32m    277\u001b[0m         \u001b[0mcum_loss\u001b[0m \u001b[1;33m+=\u001b[0m \u001b[0mloss_val\u001b[0m\u001b[1;33m\u001b[0m\u001b[1;33m\u001b[0m\u001b[0m\n",
      "\u001b[1;32mc:\\users\\ssg_share_1\\.pyenv\\pyenv-win\\versions\\3.7.7\\lib\\site-packages\\tensorflow\\python\\client\\session.py\u001b[0m in \u001b[0;36mrun\u001b[1;34m(self, fetches, feed_dict, options, run_metadata)\u001b[0m\n\u001b[0;32m    956\u001b[0m     \u001b[1;32mtry\u001b[0m\u001b[1;33m:\u001b[0m\u001b[1;33m\u001b[0m\u001b[1;33m\u001b[0m\u001b[0m\n\u001b[0;32m    957\u001b[0m       result = self._run(None, fetches, feed_dict, options_ptr,\n\u001b[1;32m--> 958\u001b[1;33m                          run_metadata_ptr)\n\u001b[0m\u001b[0;32m    959\u001b[0m       \u001b[1;32mif\u001b[0m \u001b[0mrun_metadata\u001b[0m\u001b[1;33m:\u001b[0m\u001b[1;33m\u001b[0m\u001b[1;33m\u001b[0m\u001b[0m\n\u001b[0;32m    960\u001b[0m         \u001b[0mproto_data\u001b[0m \u001b[1;33m=\u001b[0m \u001b[0mtf_session\u001b[0m\u001b[1;33m.\u001b[0m\u001b[0mTF_GetBuffer\u001b[0m\u001b[1;33m(\u001b[0m\u001b[0mrun_metadata_ptr\u001b[0m\u001b[1;33m)\u001b[0m\u001b[1;33m\u001b[0m\u001b[1;33m\u001b[0m\u001b[0m\n",
      "\u001b[1;32mc:\\users\\ssg_share_1\\.pyenv\\pyenv-win\\versions\\3.7.7\\lib\\site-packages\\tensorflow\\python\\client\\session.py\u001b[0m in \u001b[0;36m_run\u001b[1;34m(self, handle, fetches, feed_dict, options, run_metadata)\u001b[0m\n\u001b[0;32m   1179\u001b[0m     \u001b[1;32mif\u001b[0m \u001b[0mfinal_fetches\u001b[0m \u001b[1;32mor\u001b[0m \u001b[0mfinal_targets\u001b[0m \u001b[1;32mor\u001b[0m \u001b[1;33m(\u001b[0m\u001b[0mhandle\u001b[0m \u001b[1;32mand\u001b[0m \u001b[0mfeed_dict_tensor\u001b[0m\u001b[1;33m)\u001b[0m\u001b[1;33m:\u001b[0m\u001b[1;33m\u001b[0m\u001b[1;33m\u001b[0m\u001b[0m\n\u001b[0;32m   1180\u001b[0m       results = self._do_run(handle, final_targets, final_fetches,\n\u001b[1;32m-> 1181\u001b[1;33m                              feed_dict_tensor, options, run_metadata)\n\u001b[0m\u001b[0;32m   1182\u001b[0m     \u001b[1;32melse\u001b[0m\u001b[1;33m:\u001b[0m\u001b[1;33m\u001b[0m\u001b[1;33m\u001b[0m\u001b[0m\n\u001b[0;32m   1183\u001b[0m       \u001b[0mresults\u001b[0m \u001b[1;33m=\u001b[0m \u001b[1;33m[\u001b[0m\u001b[1;33m]\u001b[0m\u001b[1;33m\u001b[0m\u001b[1;33m\u001b[0m\u001b[0m\n",
      "\u001b[1;32mc:\\users\\ssg_share_1\\.pyenv\\pyenv-win\\versions\\3.7.7\\lib\\site-packages\\tensorflow\\python\\client\\session.py\u001b[0m in \u001b[0;36m_do_run\u001b[1;34m(self, handle, target_list, fetch_list, feed_dict, options, run_metadata)\u001b[0m\n\u001b[0;32m   1357\u001b[0m     \u001b[1;32mif\u001b[0m \u001b[0mhandle\u001b[0m \u001b[1;32mis\u001b[0m \u001b[1;32mNone\u001b[0m\u001b[1;33m:\u001b[0m\u001b[1;33m\u001b[0m\u001b[1;33m\u001b[0m\u001b[0m\n\u001b[0;32m   1358\u001b[0m       return self._do_call(_run_fn, feeds, fetches, targets, options,\n\u001b[1;32m-> 1359\u001b[1;33m                            run_metadata)\n\u001b[0m\u001b[0;32m   1360\u001b[0m     \u001b[1;32melse\u001b[0m\u001b[1;33m:\u001b[0m\u001b[1;33m\u001b[0m\u001b[1;33m\u001b[0m\u001b[0m\n\u001b[0;32m   1361\u001b[0m       \u001b[1;32mreturn\u001b[0m \u001b[0mself\u001b[0m\u001b[1;33m.\u001b[0m\u001b[0m_do_call\u001b[0m\u001b[1;33m(\u001b[0m\u001b[0m_prun_fn\u001b[0m\u001b[1;33m,\u001b[0m \u001b[0mhandle\u001b[0m\u001b[1;33m,\u001b[0m \u001b[0mfeeds\u001b[0m\u001b[1;33m,\u001b[0m \u001b[0mfetches\u001b[0m\u001b[1;33m)\u001b[0m\u001b[1;33m\u001b[0m\u001b[1;33m\u001b[0m\u001b[0m\n",
      "\u001b[1;32mc:\\users\\ssg_share_1\\.pyenv\\pyenv-win\\versions\\3.7.7\\lib\\site-packages\\tensorflow\\python\\client\\session.py\u001b[0m in \u001b[0;36m_do_call\u001b[1;34m(self, fn, *args)\u001b[0m\n\u001b[0;32m   1363\u001b[0m   \u001b[1;32mdef\u001b[0m \u001b[0m_do_call\u001b[0m\u001b[1;33m(\u001b[0m\u001b[0mself\u001b[0m\u001b[1;33m,\u001b[0m \u001b[0mfn\u001b[0m\u001b[1;33m,\u001b[0m \u001b[1;33m*\u001b[0m\u001b[0margs\u001b[0m\u001b[1;33m)\u001b[0m\u001b[1;33m:\u001b[0m\u001b[1;33m\u001b[0m\u001b[1;33m\u001b[0m\u001b[0m\n\u001b[0;32m   1364\u001b[0m     \u001b[1;32mtry\u001b[0m\u001b[1;33m:\u001b[0m\u001b[1;33m\u001b[0m\u001b[1;33m\u001b[0m\u001b[0m\n\u001b[1;32m-> 1365\u001b[1;33m       \u001b[1;32mreturn\u001b[0m \u001b[0mfn\u001b[0m\u001b[1;33m(\u001b[0m\u001b[1;33m*\u001b[0m\u001b[0margs\u001b[0m\u001b[1;33m)\u001b[0m\u001b[1;33m\u001b[0m\u001b[1;33m\u001b[0m\u001b[0m\n\u001b[0m\u001b[0;32m   1366\u001b[0m     \u001b[1;32mexcept\u001b[0m \u001b[0merrors\u001b[0m\u001b[1;33m.\u001b[0m\u001b[0mOpError\u001b[0m \u001b[1;32mas\u001b[0m \u001b[0me\u001b[0m\u001b[1;33m:\u001b[0m\u001b[1;33m\u001b[0m\u001b[1;33m\u001b[0m\u001b[0m\n\u001b[0;32m   1367\u001b[0m       \u001b[0mmessage\u001b[0m \u001b[1;33m=\u001b[0m \u001b[0mcompat\u001b[0m\u001b[1;33m.\u001b[0m\u001b[0mas_text\u001b[0m\u001b[1;33m(\u001b[0m\u001b[0me\u001b[0m\u001b[1;33m.\u001b[0m\u001b[0mmessage\u001b[0m\u001b[1;33m)\u001b[0m\u001b[1;33m\u001b[0m\u001b[1;33m\u001b[0m\u001b[0m\n",
      "\u001b[1;32mc:\\users\\ssg_share_1\\.pyenv\\pyenv-win\\versions\\3.7.7\\lib\\site-packages\\tensorflow\\python\\client\\session.py\u001b[0m in \u001b[0;36m_run_fn\u001b[1;34m(feed_dict, fetch_list, target_list, options, run_metadata)\u001b[0m\n\u001b[0;32m   1348\u001b[0m       \u001b[0mself\u001b[0m\u001b[1;33m.\u001b[0m\u001b[0m_extend_graph\u001b[0m\u001b[1;33m(\u001b[0m\u001b[1;33m)\u001b[0m\u001b[1;33m\u001b[0m\u001b[1;33m\u001b[0m\u001b[0m\n\u001b[0;32m   1349\u001b[0m       return self._call_tf_sessionrun(options, feed_dict, fetch_list,\n\u001b[1;32m-> 1350\u001b[1;33m                                       target_list, run_metadata)\n\u001b[0m\u001b[0;32m   1351\u001b[0m \u001b[1;33m\u001b[0m\u001b[0m\n\u001b[0;32m   1352\u001b[0m     \u001b[1;32mdef\u001b[0m \u001b[0m_prun_fn\u001b[0m\u001b[1;33m(\u001b[0m\u001b[0mhandle\u001b[0m\u001b[1;33m,\u001b[0m \u001b[0mfeed_dict\u001b[0m\u001b[1;33m,\u001b[0m \u001b[0mfetch_list\u001b[0m\u001b[1;33m)\u001b[0m\u001b[1;33m:\u001b[0m\u001b[1;33m\u001b[0m\u001b[1;33m\u001b[0m\u001b[0m\n",
      "\u001b[1;32mc:\\users\\ssg_share_1\\.pyenv\\pyenv-win\\versions\\3.7.7\\lib\\site-packages\\tensorflow\\python\\client\\session.py\u001b[0m in \u001b[0;36m_call_tf_sessionrun\u001b[1;34m(self, options, feed_dict, fetch_list, target_list, run_metadata)\u001b[0m\n\u001b[0;32m   1441\u001b[0m     return tf_session.TF_SessionRun_wrapper(self._session, options, feed_dict,\n\u001b[0;32m   1442\u001b[0m                                             \u001b[0mfetch_list\u001b[0m\u001b[1;33m,\u001b[0m \u001b[0mtarget_list\u001b[0m\u001b[1;33m,\u001b[0m\u001b[1;33m\u001b[0m\u001b[1;33m\u001b[0m\u001b[0m\n\u001b[1;32m-> 1443\u001b[1;33m                                             run_metadata)\n\u001b[0m\u001b[0;32m   1444\u001b[0m \u001b[1;33m\u001b[0m\u001b[0m\n\u001b[0;32m   1445\u001b[0m   \u001b[1;32mdef\u001b[0m \u001b[0m_call_tf_sessionprun\u001b[0m\u001b[1;33m(\u001b[0m\u001b[0mself\u001b[0m\u001b[1;33m,\u001b[0m \u001b[0mhandle\u001b[0m\u001b[1;33m,\u001b[0m \u001b[0mfeed_dict\u001b[0m\u001b[1;33m,\u001b[0m \u001b[0mfetch_list\u001b[0m\u001b[1;33m)\u001b[0m\u001b[1;33m:\u001b[0m\u001b[1;33m\u001b[0m\u001b[1;33m\u001b[0m\u001b[0m\n",
      "\u001b[1;31mKeyboardInterrupt\u001b[0m: "
     ]
    }
   ],
   "source": [
    "# train\n",
    "deeplabcut.train_network(path_config, shuffle=1,\n",
    "                         displayiters=10, saveiters=500)"
   ]
  },
  {
   "cell_type": "code",
   "execution_count": 10,
   "id": "26ecdbd9",
   "metadata": {},
   "outputs": [
    {
     "name": "stderr",
     "output_type": "stream",
     "text": [
      "Config:\n",
      "{'all_joints': [[0], [1], [2], [3]],\n",
      " 'all_joints_names': ['ear_left', 'ear_right', 'tail_set', 'nose'],\n",
      " 'batch_size': 1,\n",
      " 'crop_pad': 0,\n",
      " 'dataset': 'training-datasets\\\\iteration-0\\\\UnaugmentedDataSet_2021-08-30Aug30\\\\2021-08-30_eggplants95shuffle1.mat',\n",
      " 'dataset_type': 'imgaug',\n",
      " 'deterministic': False,\n",
      " 'fg_fraction': 0.25,\n",
      " 'global_scale': 0.8,\n",
      " 'init_weights': 'c:\\\\users\\\\ssg_share_1\\\\.pyenv\\\\pyenv-win\\\\versions\\\\3.7.7\\\\lib\\\\site-packages\\\\deeplabcut\\\\pose_estimation_tensorflow\\\\models\\\\pretrained\\\\resnet_v1_50.ckpt',\n",
      " 'intermediate_supervision': False,\n",
      " 'intermediate_supervision_layer': 12,\n",
      " 'location_refinement': True,\n",
      " 'locref_huber_loss': True,\n",
      " 'locref_loss_weight': 1.0,\n",
      " 'locref_stdev': 7.2801,\n",
      " 'log_dir': 'log',\n",
      " 'mean_pixel': [123.68, 116.779, 103.939],\n",
      " 'mirror': False,\n",
      " 'net_type': 'resnet_50',\n",
      " 'num_joints': 4,\n",
      " 'optimizer': 'sgd',\n",
      " 'pairwise_huber_loss': True,\n",
      " 'pairwise_predict': False,\n",
      " 'partaffinityfield_predict': False,\n",
      " 'regularize': False,\n",
      " 'scoremap_dir': 'test',\n",
      " 'shuffle': True,\n",
      " 'snapshot_prefix': 'C:\\\\Users\\\\SSG_Share_1\\\\Haruna\\\\Deeplabcut-trainer\\\\2021-08-30-eggplants-2021-08-30\\\\dlc-models\\\\iteration-0\\\\2021-08-30Aug30-trainset95shuffle1\\\\test\\\\snapshot',\n",
      " 'stride': 8.0,\n",
      " 'weigh_negatives': False,\n",
      " 'weigh_only_present_joints': False,\n",
      " 'weigh_part_predictions': False,\n",
      " 'weight_decay': 0.0001}\n"
     ]
    },
    {
     "name": "stdout",
     "output_type": "stream",
     "text": [
      "Running  DLC_resnet50_2021-08-30Aug30shuffle1_500  with # of trainingiterations: 500\n"
     ]
    },
    {
     "name": "stderr",
     "output_type": "stream",
     "text": [
      "\r",
      "0it [00:00, ?it/s]"
     ]
    },
    {
     "name": "stdout",
     "output_type": "stream",
     "text": [
      "Analyzing data...\n"
     ]
    },
    {
     "name": "stderr",
     "output_type": "stream",
     "text": [
      "73it [02:47,  2.29s/it]\n",
      "c:\\users\\ssg_share_1\\.pyenv\\pyenv-win\\versions\\3.7.7\\lib\\site-packages\\deeplabcut\\pose_estimation_tensorflow\\core\\evaluate.py:840: RuntimeWarning: Mean of empty slice\n",
      "  RMSEpcutoff.iloc[testIndices].values.flatten()\n",
      "c:\\users\\ssg_share_1\\.pyenv\\pyenv-win\\versions\\3.7.7\\lib\\site-packages\\deeplabcut\\pose_estimation_tensorflow\\core\\evaluate.py:843: RuntimeWarning: Mean of empty slice\n",
      "  RMSEpcutoff.iloc[trainIndices].values.flatten()\n",
      "  0%|                                                                                           | 0/73 [00:00<?, ?it/s]"
     ]
    },
    {
     "name": "stdout",
     "output_type": "stream",
     "text": [
      "Done and results stored for snapshot:  snapshot-500\n",
      "Results for 500  training iterations: 95 1 train error: 9.1 pixels. Test error: 12.24  pixels.\n",
      "With pcutoff of 0.6  train error: nan pixels. Test error: nan pixels\n",
      "Thereby, the errors are given by the average distances between the labels by DLC and the scorer.\n",
      "Plotting...\n"
     ]
    },
    {
     "name": "stderr",
     "output_type": "stream",
     "text": [
      "100%|██████████████████████████████████████████████████████████████████████████████████| 73/73 [00:45<00:00,  1.60it/s]"
     ]
    },
    {
     "name": "stdout",
     "output_type": "stream",
     "text": [
      "The network is evaluated and the results are stored in the subdirectory 'evaluation_results'.\n",
      "If it generalizes well, choose the best model for prediction and update the config file with the appropriate index for the 'snapshotindex'.\n",
      "Use the function 'analyze_video' to make predictions on new videos.\n",
      "Otherwise consider retraining the network (see DeepLabCut workflow Fig 2)\n"
     ]
    },
    {
     "name": "stderr",
     "output_type": "stream",
     "text": [
      "\n"
     ]
    }
   ],
   "source": [
    "# check model\n",
    "deeplabcut.evaluate_network(path_config, plotting=True)"
   ]
  },
  {
   "cell_type": "code",
   "execution_count": 13,
   "id": "06bf38c5",
   "metadata": {},
   "outputs": [
    {
     "name": "stdout",
     "output_type": "stream",
     "text": [
      "\n",
      " _        __                             \n",
      "(_)      / _|                            \n",
      " _ _ __ | |_ ___ _ __ ___ _ __   ___ ___ \n",
      "| | '_ \\|  _/ _ \\ '__/ _ \\ '_ \\ / __/ _ \\\n",
      "| | | | | ||  __/ | |  __/ | | | (_|  __/\n",
      "|_|_| |_|_| \\___|_|  \\___|_| |_|\\___\\___|\n",
      "\n"
     ]
    }
   ],
   "source": [
    "print('''\n",
    " _        __                             \n",
    "(_)      / _|                            \n",
    " _ _ __ | |_ ___ _ __ ___ _ __   ___ ___ \n",
    "| | '_ \\|  _/ _ \\ '__/ _ \\ '_ \\ / __/ _ \\\\\n",
    "| | | | | ||  __/ | |  __/ | | | (_|  __/\n",
    "|_|_| |_|_| \\___|_|  \\___|_| |_|\\___\\___|\n",
    "''')"
   ]
  },
  {
   "cell_type": "code",
   "execution_count": 15,
   "id": "10419da9",
   "metadata": {},
   "outputs": [
    {
     "data": {
      "text/plain": [
       "['C:\\\\Users\\\\SSG_Share_1\\\\Haruna\\\\data_with_cable\\\\test_body_with_cable.avi']"
      ]
     },
     "execution_count": 15,
     "metadata": {},
     "output_type": "execute_result"
    }
   ],
   "source": [
    "VideoType = \".avi\"\n",
    "video_paths = [\"C:\\\\Users\\\\SSG_Share_1\\\\Haruna\\\\\"\n",
    "               \"data_with_cable\\\\test_body_with_cable.avi\"]\n",
    "video_paths"
   ]
  },
  {
   "cell_type": "code",
   "execution_count": 16,
   "id": "0c0da980",
   "metadata": {},
   "outputs": [
    {
     "name": "stderr",
     "output_type": "stream",
     "text": [
      "Config:\n",
      "{'all_joints': [[0], [1], [2], [3]],\n",
      " 'all_joints_names': ['ear_left', 'ear_right', 'tail_set', 'nose'],\n",
      " 'batch_size': 1,\n",
      " 'crop_pad': 0,\n",
      " 'dataset': 'training-datasets\\\\iteration-0\\\\UnaugmentedDataSet_2021-08-30Aug30\\\\2021-08-30_eggplants95shuffle1.mat',\n",
      " 'dataset_type': 'imgaug',\n",
      " 'deterministic': False,\n",
      " 'fg_fraction': 0.25,\n",
      " 'global_scale': 0.8,\n",
      " 'init_weights': 'c:\\\\users\\\\ssg_share_1\\\\.pyenv\\\\pyenv-win\\\\versions\\\\3.7.7\\\\lib\\\\site-packages\\\\deeplabcut\\\\pose_estimation_tensorflow\\\\models\\\\pretrained\\\\resnet_v1_50.ckpt',\n",
      " 'intermediate_supervision': False,\n",
      " 'intermediate_supervision_layer': 12,\n",
      " 'location_refinement': True,\n",
      " 'locref_huber_loss': True,\n",
      " 'locref_loss_weight': 1.0,\n",
      " 'locref_stdev': 7.2801,\n",
      " 'log_dir': 'log',\n",
      " 'mean_pixel': [123.68, 116.779, 103.939],\n",
      " 'mirror': False,\n",
      " 'net_type': 'resnet_50',\n",
      " 'num_joints': 4,\n",
      " 'optimizer': 'sgd',\n",
      " 'pairwise_huber_loss': True,\n",
      " 'pairwise_predict': False,\n",
      " 'partaffinityfield_predict': False,\n",
      " 'regularize': False,\n",
      " 'scoremap_dir': 'test',\n",
      " 'shuffle': True,\n",
      " 'snapshot_prefix': 'C:\\\\Users\\\\SSG_Share_1\\\\Haruna\\\\Deeplabcut-trainer\\\\2021-08-30-eggplants-2021-08-30\\\\dlc-models\\\\iteration-0\\\\2021-08-30Aug30-trainset95shuffle1\\\\test\\\\snapshot',\n",
      " 'stride': 8.0,\n",
      " 'weigh_negatives': False,\n",
      " 'weigh_only_present_joints': False,\n",
      " 'weigh_part_predictions': False,\n",
      " 'weight_decay': 0.0001}\n"
     ]
    },
    {
     "name": "stdout",
     "output_type": "stream",
     "text": [
      "Using snapshot-500 for model C:\\Users\\SSG_Share_1\\Haruna\\Deeplabcut-trainer\\2021-08-30-eggplants-2021-08-30\\dlc-models\\iteration-0\\2021-08-30Aug30-trainset95shuffle1\n"
     ]
    },
    {
     "name": "stderr",
     "output_type": "stream",
     "text": [
      "\r",
      "  0%|                                                                                         | 0/3601 [00:00<?, ?it/s]"
     ]
    },
    {
     "name": "stdout",
     "output_type": "stream",
     "text": [
      "Starting to analyze %  C:\\Users\\SSG_Share_1\\Haruna\\data_with_cable\\test_body_with_cable.avi\n",
      "C:\\Users\\SSG_Share_1\\Haruna\\data_with_cable  already exists!\n",
      "Loading  C:\\Users\\SSG_Share_1\\Haruna\\data_with_cable\\test_body_with_cable.avi\n",
      "Duration of video [s]:  60.02 , recorded with  60.0 fps!\n",
      "Overall # of frames:  3601  found with (before cropping) frame dimensions:  1280 960\n",
      "Starting to extract posture\n"
     ]
    },
    {
     "name": "stderr",
     "output_type": "stream",
     "text": [
      "3636it [1:02:39,  1.03s/it]                                                                                            "
     ]
    },
    {
     "name": "stdout",
     "output_type": "stream",
     "text": [
      "Saving results in C:\\Users\\SSG_Share_1\\Haruna\\data_with_cable...\n",
      "The videos are analyzed. Now your research can truly start! \n",
      " You can create labeled videos with 'create_labeled_video'\n",
      "If the tracking is not satisfactory for some videos, consider expanding the training set. You can use the function 'extract_outlier_frames' to extract a few representative outlier frames.\n"
     ]
    },
    {
     "name": "stderr",
     "output_type": "stream",
     "text": [
      "\n"
     ]
    },
    {
     "data": {
      "text/plain": [
       "'DLC_resnet50_2021-08-30Aug30shuffle1_500'"
      ]
     },
     "execution_count": 16,
     "metadata": {},
     "output_type": "execute_result"
    }
   ],
   "source": [
    "# analyze videos and create result file as hd5\n",
    "deeplabcut.analyze_videos(path_config, video_paths, videotype=VideoType)\n",
    "# create labeled video\n",
    "deeplabcut.create_labeled_video(path_config, video_paths, videotype=VideoType)"
   ]
  },
  {
   "cell_type": "code",
   "execution_count": null,
   "id": "1531774b",
   "metadata": {},
   "outputs": [],
   "source": [
    "# create labeled video\n",
    "deeplabcut.create_labeled_video(path_config, video_paths, videotype=VideoType)"
   ]
  },
  {
   "cell_type": "code",
   "execution_count": null,
   "id": "3e102ecf",
   "metadata": {},
   "outputs": [],
   "source": [
    "# export coord of labeled parts from hd5 to csv \n",
    "deeplabcut.analyze_videos_converth5_to_csv(\n",
    "    \"C:\\\\Users\\\\SSG_Share_1\\\\Haruna\\\\Deeplabcut-trainer\\\\\"\n",
    "    \"2021-08-30-eggplants-2021-08-30\\\\videos\")"
   ]
  }
 ],
 "metadata": {
  "kernelspec": {
   "display_name": "Python 3 (ipykernel)",
   "language": "python",
   "name": "python3"
  },
  "language_info": {
   "codemirror_mode": {
    "name": "ipython",
    "version": 3
   },
   "file_extension": ".py",
   "mimetype": "text/x-python",
   "name": "python",
   "nbconvert_exporter": "python",
   "pygments_lexer": "ipython3",
   "version": "3.7.7"
  }
 },
 "nbformat": 4,
 "nbformat_minor": 5
}
